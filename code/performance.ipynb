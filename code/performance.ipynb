{
 "cells": [
  {
   "cell_type": "markdown",
   "metadata": {},
   "source": [
    "# Various performance tips and helpful tools"
   ]
  },
  {
   "cell_type": "markdown",
   "metadata": {},
   "source": [
    "## Code inspection macros\n",
    "\n",
    "We can inspect the steps in the compilation process of a given function call all the way down to LLVM, thanks to a couple of macros. These can come in really handy when debugging performance issues."
   ]
  },
  {
   "cell_type": "code",
   "execution_count": 1,
   "metadata": {},
   "outputs": [
    {
     "data": {
      "text/plain": [
       "foo (generic function with 1 method)"
      ]
     },
     "metadata": {},
     "output_type": "display_data"
    }
   ],
   "source": [
    "function foo(x)\n",
    "    x^2 + 3x - 1\n",
    "end"
   ]
  },
  {
   "cell_type": "code",
   "execution_count": 2,
   "metadata": {},
   "outputs": [
    {
     "data": {
      "text/plain": [
       "3"
      ]
     },
     "metadata": {},
     "output_type": "display_data"
    }
   ],
   "source": [
    "foo(1)"
   ]
  },
  {
   "cell_type": "code",
   "execution_count": 3,
   "metadata": {},
   "outputs": [
    {
     "data": {
      "text/plain": [
       "CodeInfo(\n",
       "\u001b[90m1 ─\u001b[39m %1  = Main.:-\n",
       "\u001b[90m│  \u001b[39m %2  = Main.:+\n",
       "\u001b[90m│  \u001b[39m %3  = Main.:^\n",
       "\u001b[90m│  \u001b[39m %4  = Core.apply_type(Base.Val, 2)\n",
       "\u001b[90m│  \u001b[39m %5  = (%4)()\n",
       "\u001b[90m│  \u001b[39m %6  = Base.literal_pow(%3, x, %5)\n",
       "\u001b[90m│  \u001b[39m %7  = Main.:*\n",
       "\u001b[90m│  \u001b[39m %8  = (%7)(3, x)\n",
       "\u001b[90m│  \u001b[39m %9  = (%2)(%6, %8)\n",
       "\u001b[90m│  \u001b[39m %10 = (%1)(%9, 1)\n",
       "\u001b[90m└──\u001b[39m       return %10\n",
       ")"
      ]
     },
     "metadata": {},
     "output_type": "display_data"
    }
   ],
   "source": [
    "@code_lowered foo(1)"
   ]
  },
  {
   "cell_type": "code",
   "execution_count": 4,
   "metadata": {},
   "outputs": [
    {
     "data": {
      "text/plain": [
       "CodeInfo(\n",
       "\u001b[90m1 ─\u001b[39m %1 = Base.mul_int(x, x)\u001b[36m::Int64\u001b[39m\n",
       "\u001b[90m│  \u001b[39m %2 = Base.mul_int(3, x)\u001b[36m::Int64\u001b[39m\n",
       "\u001b[90m│  \u001b[39m %3 = Base.add_int(%1, %2)\u001b[36m::Int64\u001b[39m\n",
       "\u001b[90m│  \u001b[39m %4 = Base.sub_int(%3, 1)\u001b[36m::Int64\u001b[39m\n",
       "\u001b[90m└──\u001b[39m      return %4\n",
       ") => Int64"
      ]
     },
     "metadata": {},
     "output_type": "display_data"
    }
   ],
   "source": [
    "@code_typed foo(1)"
   ]
  },
  {
   "cell_type": "code",
   "execution_count": 5,
   "metadata": {},
   "outputs": [
    {
     "name": "stdout",
     "output_type": "stream",
     "text": [
      "MethodInstance for foo(::Int64)\n",
      "  from foo(\u001b[90mx\u001b[39m)\u001b[90m @\u001b[39m \u001b[90mMain\u001b[39m \u001b[90m~/Documents/Talks/CeCI/CECI-Julia-for-HPC/code/\u001b[39m\u001b[90m\u001b[4mjl_notebook_cell_df34fa98e69747e1a8f8a730347b8e2f_W2sZmlsZQ==.jl:1\u001b[24m\u001b[39m\n",
      "Arguments\n",
      "  #self#\u001b[36m::Core.Const(Main.foo)\u001b[39m\n",
      "  x\u001b[36m::Int64\u001b[39m\n",
      "Body\u001b[36m::Int64\u001b[39m\n",
      "\u001b[90m1 ─\u001b[39m %1  = Main.:-\u001b[36m::Core.Const(-)\u001b[39m\n",
      "\u001b[90m│  \u001b[39m %2  = Main.:+\u001b[36m::Core.Const(+)\u001b[39m\n",
      "\u001b[90m│  \u001b[39m %3  = Main.:^\u001b[36m::Core.Const(^)\u001b[39m\n",
      "\u001b[90m│  \u001b[39m %4  = Core.apply_type(Base.Val, 2)\u001b[36m::Core.Const(Val{2})\u001b[39m\n",
      "\u001b[90m│  \u001b[39m %5  = (%4)()\u001b[36m::Core.Const(Val{2}())\u001b[39m\n",
      "\u001b[90m│  \u001b[39m %6  = Base.literal_pow(%3, x, %5)\u001b[36m::Int64\u001b[39m\n",
      "\u001b[90m│  \u001b[39m %7  = Main.:*\u001b[36m::Core.Const(*)\u001b[39m\n",
      "\u001b[90m│  \u001b[39m %8  = (%7)(3, x)\u001b[36m::Int64\u001b[39m\n",
      "\u001b[90m│  \u001b[39m %9  = (%2)(%6, %8)\u001b[36m::Int64\u001b[39m\n",
      "\u001b[90m│  \u001b[39m %10 = (%1)(%9, 1)\u001b[36m::Int64\u001b[39m\n",
      "\u001b[90m└──\u001b[39m       return %10\n",
      "\n"
     ]
    }
   ],
   "source": [
    "@code_warntype foo(1)"
   ]
  },
  {
   "cell_type": "code",
   "execution_count": 6,
   "metadata": {},
   "outputs": [
    {
     "name": "stdout",
     "output_type": "stream",
     "text": [
      "\u001b[90m; Function Signature: foo(Int64)\u001b[39m\n",
      "\u001b[90m;  @ /home/csimal/Documents/Talks/CeCI/CECI-Julia-for-HPC/code/jl_notebook_cell_df34fa98e69747e1a8f8a730347b8e2f_W2sZmlsZQ==.jl:1 within `foo`\u001b[39m\n",
      "\u001b[95mdefine\u001b[39m \u001b[36mi64\u001b[39m \u001b[93m@julia_foo_11415\u001b[39m\u001b[33m(\u001b[39m\u001b[36mi64\u001b[39m \u001b[95msignext\u001b[39m \u001b[0m%\"x::Int64\"\u001b[33m)\u001b[39m \u001b[0m#0 \u001b[33m{\u001b[39m\n",
      "\u001b[91mtop:\u001b[39m\n",
      "\u001b[90m;  @ /home/csimal/Documents/Talks/CeCI/CECI-Julia-for-HPC/code/jl_notebook_cell_df34fa98e69747e1a8f8a730347b8e2f_W2sZmlsZQ==.jl:2 within `foo`\u001b[39m\n",
      "\u001b[90m; ┌ @ int.jl:87 within `+`\u001b[39m\n",
      "   \u001b[0m%0 \u001b[0m= \u001b[96m\u001b[1madd\u001b[22m\u001b[39m \u001b[36mi64\u001b[39m \u001b[0m%\"x::Int64\"\u001b[0m, \u001b[33m3\u001b[39m\n",
      "   \u001b[0m%1 \u001b[0m= \u001b[96m\u001b[1mmul\u001b[22m\u001b[39m \u001b[36mi64\u001b[39m \u001b[0m%0\u001b[0m, \u001b[0m%\"x::Int64\"\n",
      "\u001b[90m; └\u001b[39m\n",
      "\u001b[90m; ┌ @ int.jl:86 within `-`\u001b[39m\n",
      "   \u001b[0m%2 \u001b[0m= \u001b[96m\u001b[1madd\u001b[22m\u001b[39m \u001b[36mi64\u001b[39m \u001b[0m%1\u001b[0m, \u001b[33m-1\u001b[39m\n",
      "   \u001b[96m\u001b[1mret\u001b[22m\u001b[39m \u001b[36mi64\u001b[39m \u001b[0m%2\n",
      "\u001b[90m; └\u001b[39m\n",
      "\u001b[33m}\u001b[39m\n"
     ]
    }
   ],
   "source": [
    "@code_llvm foo(1)"
   ]
  },
  {
   "cell_type": "markdown",
   "metadata": {},
   "source": [
    "## Array views\n",
    "When modifying arrays slice by slice, it's often handy to use `views` which are essentially \"sub-arrays\" that are directly bound to the same underlying memory, while having adapted indices."
   ]
  },
  {
   "cell_type": "code",
   "execution_count": 7,
   "metadata": {},
   "outputs": [
    {
     "data": {
      "text/plain": [
       "inplace! (generic function with 1 method)"
      ]
     },
     "metadata": {},
     "output_type": "display_data"
    }
   ],
   "source": [
    "function inplace!(a)\n",
    "    for i in eachindex(a)\n",
    "        a[i] = a[i]^2\n",
    "    end\n",
    "end"
   ]
  },
  {
   "cell_type": "code",
   "execution_count": 8,
   "metadata": {},
   "outputs": [
    {
     "data": {
      "text/plain": [
       "5-element Vector{Float64}:\n",
       " 0.11144056285038484\n",
       " 0.33243058187466434\n",
       " 0.027166535095138777\n",
       " 0.1918066135286458\n",
       " 0.5078639846225823"
      ]
     },
     "metadata": {},
     "output_type": "display_data"
    }
   ],
   "source": [
    "x = rand(5)"
   ]
  },
  {
   "cell_type": "code",
   "execution_count": 9,
   "metadata": {},
   "outputs": [
    {
     "data": {
      "text/plain": [
       "5-element Vector{Float64}:\n",
       " 0.012418999048410574\n",
       " 0.11051009176552791\n",
       " 0.0007380206290754068\n",
       " 0.03678977699332729\n",
       " 0.2579258268767265"
      ]
     },
     "metadata": {},
     "output_type": "display_data"
    }
   ],
   "source": [
    "inplace!(x)\n",
    "x"
   ]
  },
  {
   "cell_type": "code",
   "execution_count": 10,
   "metadata": {},
   "outputs": [
    {
     "data": {
      "text/plain": [
       "5×5 Matrix{Float64}:\n",
       " 0.142352  0.324387   0.206145   0.272745   0.971719\n",
       " 0.816253  0.0771701  0.579599   0.562823   0.74918\n",
       " 0.773032  0.962721   0.0857288  0.76549    0.0547727\n",
       " 0.429408  0.4843     0.33207    0.0205874  0.237885\n",
       " 0.195748  0.18239    0.459602   0.284693   0.041879"
      ]
     },
     "metadata": {},
     "output_type": "display_data"
    }
   ],
   "source": [
    "A = rand(5,5)"
   ]
  },
  {
   "cell_type": "code",
   "execution_count": 11,
   "metadata": {},
   "outputs": [
    {
     "data": {
      "text/plain": [
       "5×5 Matrix{Float64}:\n",
       " 0.142352  0.324387   0.206145   0.272745   0.971719\n",
       " 0.816253  0.0771701  0.579599   0.562823   0.74918\n",
       " 0.773032  0.962721   0.0857288  0.76549    0.0547727\n",
       " 0.429408  0.4843     0.33207    0.0205874  0.237885\n",
       " 0.195748  0.18239    0.459602   0.284693   0.041879"
      ]
     },
     "metadata": {},
     "output_type": "display_data"
    }
   ],
   "source": [
    "for i in axes(A,1)\n",
    "    inplace!(A[i,:])\n",
    "end\n",
    "A"
   ]
  },
  {
   "cell_type": "markdown",
   "metadata": {},
   "source": [
    "`A` hasn't changed! That's because `A[i,:]` creates a copy.\n",
    "\n",
    "In order to get the correct behavior, we need to use views."
   ]
  },
  {
   "cell_type": "code",
   "execution_count": 12,
   "metadata": {},
   "outputs": [
    {
     "data": {
      "text/plain": [
       "5×5 Matrix{Float64}:\n",
       " 0.020264   0.105227    0.0424959   0.0743896   0.944238\n",
       " 0.666269   0.00595522  0.335934    0.316769    0.56127\n",
       " 0.597578   0.926832    0.00734942  0.585975    0.00300005\n",
       " 0.184392   0.234547    0.11027     0.00042384  0.0565893\n",
       " 0.0383174  0.0332662   0.211234    0.0810501   0.00175385"
      ]
     },
     "metadata": {},
     "output_type": "display_data"
    }
   ],
   "source": [
    "for i in axes(A,1)\n",
    "    inplace!(view(A, i, :))\n",
    "end\n",
    "A"
   ]
  },
  {
   "cell_type": "markdown",
   "metadata": {},
   "source": [
    "Equivalently, we can use the `@views` macro, which will apply to every indexing operation within a block"
   ]
  },
  {
   "cell_type": "code",
   "execution_count": 13,
   "metadata": {},
   "outputs": [
    {
     "data": {
      "text/plain": [
       "5×5 Matrix{Float64}:\n",
       " 0.00041063  0.0110728   0.0018059  0.00553381  0.891586\n",
       " 0.443915    3.54646e-5  0.112852   0.100343    0.315024\n",
       " 0.3571      0.859017    5.4014e-5  0.343366    9.00028e-6\n",
       " 0.0340003   0.0550123   0.0121596  1.79641e-7  0.00320235\n",
       " 0.00146822  0.00110664  0.04462    0.00656912  3.07599e-6"
      ]
     },
     "metadata": {},
     "output_type": "display_data"
    }
   ],
   "source": [
    " @views for i in axes(A,1)\n",
    "    inplace!(A[i,:])\n",
    " end\n",
    " A"
   ]
  },
  {
   "cell_type": "markdown",
   "metadata": {},
   "source": [
    "## Type Stability\n",
    "\n",
    "A function is said to be *type-stable* if its return type can be inferred from the types of its arguments. Type stability is pretty important, as its absence forces the Julia compiler to be more conservative. Any type unstable function will in general hurt performance, so they should be avoided at all costs.\n",
    "\n",
    "The following function is type unstable, as the type of its output depends on the *value* of its input, not just its type."
   ]
  },
  {
   "cell_type": "code",
   "execution_count": 14,
   "metadata": {},
   "outputs": [
    {
     "data": {
      "text/plain": [
       "type_unstable (generic function with 1 method)"
      ]
     },
     "metadata": {},
     "output_type": "display_data"
    }
   ],
   "source": [
    "function type_unstable(x)\n",
    "    if x < 0\n",
    "        return \"Negative number\"\n",
    "    else\n",
    "        return x\n",
    "    end\n",
    "end"
   ]
  },
  {
   "cell_type": "markdown",
   "metadata": {},
   "source": [
    "A helpful tool to hunt for type instability is the `@code_warntype` macro."
   ]
  },
  {
   "cell_type": "code",
   "execution_count": 15,
   "metadata": {},
   "outputs": [
    {
     "name": "stdout",
     "output_type": "stream",
     "text": [
      "MethodInstance for type_unstable(::Int64)\n",
      "  from type_unstable(\u001b[90mx\u001b[39m)\u001b[90m @\u001b[39m \u001b[90mMain\u001b[39m \u001b[90m~/Documents/Talks/CeCI/CECI-Julia-for-HPC/code/\u001b[39m\u001b[90m\u001b[4mjl_notebook_cell_df34fa98e69747e1a8f8a730347b8e2f_X25sZmlsZQ==.jl:1\u001b[24m\u001b[39m\n",
      "Arguments\n",
      "  #self#\u001b[36m::Core.Const(Main.type_unstable)\u001b[39m\n",
      "  x\u001b[36m::Int64\u001b[39m\n",
      "Body\u001b[33m\u001b[1m::Union{Int64, String}\u001b[22m\u001b[39m\n",
      "\u001b[90m1 ─\u001b[39m %1 = Main.:<\u001b[36m::Core.Const(<)\u001b[39m\n",
      "\u001b[90m│  \u001b[39m %2 = (%1)(x, 0)\u001b[36m::Bool\u001b[39m\n",
      "\u001b[90m└──\u001b[39m      goto #3 if not %2\n",
      "\u001b[90m2 ─\u001b[39m      return \"Negative number\"\n",
      "\u001b[90m3 ─\u001b[39m %5 = x\u001b[36m::Int64\u001b[39m\n",
      "\u001b[90m└──\u001b[39m      return %5\n",
      "\n"
     ]
    }
   ],
   "source": [
    "@code_warntype type_unstable(1)"
   ]
  },
  {
   "cell_type": "markdown",
   "metadata": {},
   "source": [
    "A more subtle example of type instability is when handling arithmetic expression. Julia tends to avoid implicit type conversions, which can sometimes lead to surprises. The following function is type unstable. Can you spot why?"
   ]
  },
  {
   "cell_type": "code",
   "execution_count": 16,
   "metadata": {},
   "outputs": [
    {
     "data": {
      "text/plain": [
       "relu (generic function with 1 method)"
      ]
     },
     "metadata": {},
     "output_type": "display_data"
    }
   ],
   "source": [
    "relu(x) = x < 0 ? 0 : x"
   ]
  },
  {
   "cell_type": "code",
   "execution_count": 17,
   "metadata": {},
   "outputs": [
    {
     "data": {
      "text/plain": [
       "(1.0, 0)"
      ]
     },
     "metadata": {},
     "output_type": "display_data"
    }
   ],
   "source": [
    "relu(1.0), relu(-1.0)"
   ]
  },
  {
   "cell_type": "code",
   "execution_count": 18,
   "metadata": {},
   "outputs": [
    {
     "name": "stdout",
     "output_type": "stream",
     "text": [
      "MethodInstance for relu(::Float64)\n",
      "  from relu(\u001b[90mx\u001b[39m)\u001b[90m @\u001b[39m \u001b[90mMain\u001b[39m \u001b[90m~/Documents/Talks/CeCI/CECI-Julia-for-HPC/code/\u001b[39m\u001b[90m\u001b[4mjl_notebook_cell_df34fa98e69747e1a8f8a730347b8e2f_X32sZmlsZQ==.jl:1\u001b[24m\u001b[39m\n",
      "Arguments\n",
      "  #self#\u001b[36m::Core.Const(Main.relu)\u001b[39m\n",
      "  x\u001b[36m::Float64\u001b[39m\n",
      "Body\u001b[33m\u001b[1m::Union{Float64, Int64}\u001b[22m\u001b[39m\n",
      "\u001b[90m1 ─\u001b[39m %1 = (x < 0)\u001b[36m::Bool\u001b[39m\n",
      "\u001b[90m└──\u001b[39m      goto #3 if not %1\n",
      "\u001b[90m2 ─\u001b[39m      return 0\n",
      "\u001b[90m3 ─\u001b[39m %4 = x\u001b[36m::Float64\u001b[39m\n",
      "\u001b[90m└──\u001b[39m      return %4\n",
      "\n"
     ]
    }
   ],
   "source": [
    "@code_warntype relu(-1.0)"
   ]
  },
  {
   "cell_type": "markdown",
   "metadata": {},
   "source": [
    "The problem here is that the ternary operator returns 0 of type `Int` regardless of the type of `x`. In order to correct this, we can use the function `zero` which will return the zero value of the same type as `x`. Other functions like that include `one(x)` and `oftype(x,y)`"
   ]
  },
  {
   "cell_type": "code",
   "execution_count": 19,
   "metadata": {},
   "outputs": [
    {
     "data": {
      "text/plain": [
       "relu (generic function with 1 method)"
      ]
     },
     "metadata": {},
     "output_type": "display_data"
    }
   ],
   "source": [
    "relu(x) = x < 0 ? zero(x) : x"
   ]
  },
  {
   "cell_type": "code",
   "execution_count": 20,
   "metadata": {},
   "outputs": [
    {
     "name": "stdout",
     "output_type": "stream",
     "text": [
      "MethodInstance for relu(::Float64)\n",
      "  from relu(\u001b[90mx\u001b[39m)\u001b[90m @\u001b[39m \u001b[90mMain\u001b[39m \u001b[90m~/Documents/Talks/CeCI/CECI-Julia-for-HPC/code/\u001b[39m\u001b[90m\u001b[4mjl_notebook_cell_df34fa98e69747e1a8f8a730347b8e2f_X36sZmlsZQ==.jl:1\u001b[24m\u001b[39m\n",
      "Arguments\n",
      "  #self#\u001b[36m::Core.Const(Main.relu)\u001b[39m\n",
      "  x\u001b[36m::Float64\u001b[39m\n",
      "Body\u001b[36m::Float64\u001b[39m\n",
      "\u001b[90m1 ─\u001b[39m %1 = (x < 0)\u001b[36m::Bool\u001b[39m\n",
      "\u001b[90m└──\u001b[39m      goto #3 if not %1\n",
      "\u001b[90m2 ─\u001b[39m %3 = Main.zero\u001b[36m::Core.Const(zero)\u001b[39m\n",
      "\u001b[90m│  \u001b[39m %4 = (%3)(x)\u001b[36m::Core.Const(0.0)\u001b[39m\n",
      "\u001b[90m└──\u001b[39m      return %4\n",
      "\u001b[90m3 ─\u001b[39m %6 = x\u001b[36m::Float64\u001b[39m\n",
      "\u001b[90m└──\u001b[39m      return %6\n",
      "\n"
     ]
    }
   ],
   "source": [
    "@code_warntype relu(-1.0)"
   ]
  },
  {
   "cell_type": "markdown",
   "metadata": {},
   "source": [
    "Another common issue with types is when incorrectly using abstract types. For example, the following type definition is particularly problematic"
   ]
  },
  {
   "cell_type": "code",
   "execution_count": 21,
   "metadata": {},
   "outputs": [],
   "source": [
    "struct BadFoo\n",
    "    x # this amounts to x::Any\n",
    "    y::Real\n",
    "    z::Vector{Integer}\n",
    "end"
   ]
  },
  {
   "cell_type": "markdown",
   "metadata": {},
   "source": [
    "Why is this bad? Well, because whenever a struct has abstract field types, the Julia compiler can't tell what it will hold, so it has to be ready for anything, which means using pointers to values, rather than the values themselves.\n",
    "\n",
    "The correct way to do this is to use a parametric type, so that for any particular instance of our type, the compiler knows exactly the types of each field."
   ]
  },
  {
   "cell_type": "code",
   "execution_count": 22,
   "metadata": {},
   "outputs": [],
   "source": [
    "struct GoodFoo{T1,T2<:Real,T3<:Integer}\n",
    "    x::T1\n",
    "    y::T2\n",
    "    z::Vector{T3}\n",
    "end"
   ]
  },
  {
   "cell_type": "markdown",
   "metadata": {},
   "source": [
    "As an example of how bad abstract field types (or element types can be) let's look at the generated code with `@code_llvm`."
   ]
  },
  {
   "cell_type": "code",
   "execution_count": 23,
   "metadata": {},
   "outputs": [],
   "source": [
    "mutable struct Bar{T<:AbstractFloat}\n",
    "    a::T\n",
    "end"
   ]
  },
  {
   "cell_type": "code",
   "execution_count": 24,
   "metadata": {},
   "outputs": [
    {
     "data": {
      "text/plain": [
       "foo (generic function with 2 methods)"
      ]
     },
     "metadata": {},
     "output_type": "display_data"
    }
   ],
   "source": [
    "foo(b::Bar) = m.a + 1"
   ]
  },
  {
   "cell_type": "code",
   "execution_count": 25,
   "metadata": {},
   "outputs": [
    {
     "name": "stdout",
     "output_type": "stream",
     "text": [
      "\u001b[90m; Function Signature: foo(Float64)\u001b[39m\n",
      "\u001b[90m;  @ /home/csimal/Documents/Talks/CeCI/CECI-Julia-for-HPC/code/jl_notebook_cell_df34fa98e69747e1a8f8a730347b8e2f_W2sZmlsZQ==.jl:1 within `foo`\u001b[39m\n",
      "\u001b[95mdefine\u001b[39m \u001b[36mdouble\u001b[39m \u001b[93m@julia_foo_13381\u001b[39m\u001b[33m(\u001b[39m\u001b[36mdouble\u001b[39m \u001b[0m%\"x::Float64\"\u001b[33m)\u001b[39m \u001b[0m#0 \u001b[33m{\u001b[39m\n",
      "\u001b[91mtop:\u001b[39m\n",
      "\u001b[90m;  @ /home/csimal/Documents/Talks/CeCI/CECI-Julia-for-HPC/code/jl_notebook_cell_df34fa98e69747e1a8f8a730347b8e2f_W2sZmlsZQ==.jl:2 within `foo`\u001b[39m\n",
      "\u001b[90m; ┌ @ intfuncs.jl:370 within `literal_pow`\u001b[39m\n",
      "\u001b[90m; │┌ @ float.jl:493 within `*`\u001b[39m\n",
      "    \u001b[0m%0 \u001b[0m= \u001b[96m\u001b[1mfmul\u001b[22m\u001b[39m \u001b[36mdouble\u001b[39m \u001b[0m%\"x::Float64\"\u001b[0m, \u001b[0m%\"x::Float64\"\n",
      "\u001b[90m; └└\u001b[39m\n",
      "\u001b[90m; ┌ @ promotion.jl:430 within `*` @ float.jl:493\u001b[39m\n",
      "   \u001b[0m%1 \u001b[0m= \u001b[96m\u001b[1mfmul\u001b[22m\u001b[39m \u001b[36mdouble\u001b[39m \u001b[0m%\"x::Float64\"\u001b[0m, \u001b[33m3.000000e+00\u001b[39m\n",
      "\u001b[90m; └\u001b[39m\n",
      "\u001b[90m; ┌ @ float.jl:491 within `+`\u001b[39m\n",
      "   \u001b[0m%2 \u001b[0m= \u001b[96m\u001b[1mfadd\u001b[22m\u001b[39m \u001b[36mdouble\u001b[39m \u001b[0m%0\u001b[0m, \u001b[0m%1\n",
      "\u001b[90m; └\u001b[39m\n",
      "\u001b[90m; ┌ @ promotion.jl:431 within `-` @ float.jl:492\u001b[39m\n",
      "   \u001b[0m%3 \u001b[0m= \u001b[96m\u001b[1mfadd\u001b[22m\u001b[39m \u001b[36mdouble\u001b[39m \u001b[0m%2\u001b[0m, \u001b[33m-1.000000e+00\u001b[39m\n",
      "   \u001b[96m\u001b[1mret\u001b[22m\u001b[39m \u001b[36mdouble\u001b[39m \u001b[0m%3\n",
      "\u001b[90m; └\u001b[39m\n",
      "\u001b[33m}\u001b[39m\n"
     ]
    }
   ],
   "source": [
    "code_llvm(foo, Tuple{Float64})"
   ]
  },
  {
   "cell_type": "code",
   "execution_count": 26,
   "metadata": {},
   "outputs": [
    {
     "name": "stdout",
     "output_type": "stream",
     "text": [
      "\u001b[90m; WARNING: This code may not match what actually runs.\u001b[39m\n",
      "\u001b[90m; Function Signature: foo(AbstractFloat)\u001b[39m\n",
      "\u001b[90m;  @ /home/csimal/Documents/Talks/CeCI/CECI-Julia-for-HPC/code/jl_notebook_cell_df34fa98e69747e1a8f8a730347b8e2f_W2sZmlsZQ==.jl:1 within `foo`\u001b[39m\n",
      "\u001b[95mdefine\u001b[39m \u001b[95mnonnull\u001b[39m \u001b[95mptr\u001b[39m \u001b[93m@julia_foo_13387\u001b[39m\u001b[33m(\u001b[39m\u001b[95mptr\u001b[39m \u001b[95mnoundef\u001b[39m \u001b[95mnonnull\u001b[39m \u001b[95mreadonly\u001b[39m \u001b[0m%\"x::AbstractFloat\"\u001b[33m)\u001b[39m \u001b[0m#0 \u001b[33m{\u001b[39m\n",
      "\u001b[91mtop:\u001b[39m\n",
      "  \u001b[0m%jlcallframe1 \u001b[0m= \u001b[96m\u001b[1malloca\u001b[22m\u001b[39m \u001b[33m[\u001b[39m\u001b[33m2\u001b[39m \u001b[0mx \u001b[95mptr\u001b[39m\u001b[33m]\u001b[39m\u001b[0m, \u001b[95malign\u001b[39m \u001b[33m8\u001b[39m\n",
      "  \u001b[0m%gcframe2 \u001b[0m= \u001b[96m\u001b[1malloca\u001b[22m\u001b[39m \u001b[33m[\u001b[39m\u001b[33m4\u001b[39m \u001b[0mx \u001b[95mptr\u001b[39m\u001b[33m]\u001b[39m\u001b[0m, \u001b[95malign\u001b[39m \u001b[33m16\u001b[39m\n",
      "  \u001b[96m\u001b[1mcall\u001b[22m\u001b[39m \u001b[36mvoid\u001b[39m \u001b[93m@llvm.memset.p0.i64\u001b[39m\u001b[33m(\u001b[39m\u001b[95mptr\u001b[39m \u001b[95malign\u001b[39m \u001b[33m16\u001b[39m \u001b[0m%gcframe2\u001b[0m, \u001b[36mi8\u001b[39m \u001b[33m0\u001b[39m\u001b[0m, \u001b[36mi64\u001b[39m \u001b[33m32\u001b[39m\u001b[0m, \u001b[36mi1\u001b[39m \u001b[95mtrue\u001b[39m\u001b[33m)\u001b[39m\n",
      "  \u001b[0m%unionalloca.sroa.0 \u001b[0m= \u001b[96m\u001b[1malloca\u001b[22m\u001b[39m \u001b[36mdouble\u001b[39m\u001b[0m, \u001b[95malign\u001b[39m \u001b[33m8\u001b[39m\n",
      "  \u001b[0m%thread_ptr \u001b[0m= \u001b[95mcall\u001b[39m \u001b[95mptr\u001b[39m \u001b[95masm\u001b[39m \u001b[0m\"movq %fs:0, $0\"\u001b[0m, \u001b[0m\"=r\"\u001b[33m(\u001b[39m\u001b[33m)\u001b[39m \u001b[0m#12\n",
      "  \u001b[0m%tls_ppgcstack \u001b[0m= \u001b[96m\u001b[1mgetelementptr\u001b[22m\u001b[39m \u001b[36mi8\u001b[39m\u001b[0m, \u001b[95mptr\u001b[39m \u001b[0m%thread_ptr\u001b[0m, \u001b[36mi64\u001b[39m \u001b[33m-8\u001b[39m\n",
      "  \u001b[0m%tls_pgcstack \u001b[0m= \u001b[96m\u001b[1mload\u001b[22m\u001b[39m \u001b[95mptr\u001b[39m\u001b[0m, \u001b[95mptr\u001b[39m \u001b[0m%tls_ppgcstack\u001b[0m, \u001b[95malign\u001b[39m \u001b[33m8\u001b[39m\n",
      "  \u001b[96m\u001b[1mstore\u001b[22m\u001b[39m \u001b[36mi64\u001b[39m \u001b[33m8\u001b[39m\u001b[0m, \u001b[95mptr\u001b[39m \u001b[0m%gcframe2\u001b[0m, \u001b[95malign\u001b[39m \u001b[33m16\u001b[39m\n",
      "  \u001b[0m%frame.prev \u001b[0m= \u001b[96m\u001b[1mgetelementptr\u001b[22m\u001b[39m \u001b[95minbounds\u001b[39m \u001b[95mptr\u001b[39m\u001b[0m, \u001b[95mptr\u001b[39m \u001b[0m%gcframe2\u001b[0m, \u001b[36mi64\u001b[39m \u001b[33m1\u001b[39m\n",
      "  \u001b[0m%task.gcstack \u001b[0m= \u001b[96m\u001b[1mload\u001b[22m\u001b[39m \u001b[95mptr\u001b[39m\u001b[0m, \u001b[95mptr\u001b[39m \u001b[0m%tls_pgcstack\u001b[0m, \u001b[95malign\u001b[39m \u001b[33m8\u001b[39m\n",
      "  \u001b[96m\u001b[1mstore\u001b[22m\u001b[39m \u001b[95mptr\u001b[39m \u001b[0m%task.gcstack\u001b[0m, \u001b[95mptr\u001b[39m \u001b[0m%frame.prev\u001b[0m, \u001b[95malign\u001b[39m \u001b[33m8\u001b[39m\n",
      "  \u001b[96m\u001b[1mstore\u001b[22m\u001b[39m \u001b[95mptr\u001b[39m \u001b[0m%gcframe2\u001b[0m, \u001b[95mptr\u001b[39m \u001b[0m%tls_pgcstack\u001b[0m, \u001b[95malign\u001b[39m \u001b[33m8\u001b[39m\n",
      "\u001b[90m;  @ /home/csimal/Documents/Talks/CeCI/CECI-Julia-for-HPC/code/jl_notebook_cell_df34fa98e69747e1a8f8a730347b8e2f_W2sZmlsZQ==.jl:2 within `foo`\u001b[39m\n",
      "  \u001b[91m%\"x:\u001b[39m\u001b[0m:AbstractFloat.tag_addr\" \u001b[0m= \u001b[95mgetelementptr\u001b[39m \u001b[95minbounds\u001b[39m \u001b[36mi64\u001b[39m\u001b[0m, \u001b[95mptr\u001b[39m \u001b[0m%\"x::AbstractFloat\"\u001b[0m, \u001b[36mi64\u001b[39m \u001b[33m-1\u001b[39m\n",
      "  \u001b[91m%\"x:\u001b[39m\u001b[0m:AbstractFloat.tag\" \u001b[0m= \u001b[95mload\u001b[39m \u001b[95matomic\u001b[39m \u001b[36mi64\u001b[39m\u001b[0m, \u001b[95mptr\u001b[39m \u001b[0m%\"x::AbstractFloat.tag_addr\" \u001b[95munordered\u001b[39m\u001b[0m, \u001b[95malign\u001b[39m \u001b[33m8\u001b[39m\n",
      "  \u001b[0m%0 \u001b[0m= \u001b[96m\u001b[1mand\u001b[22m\u001b[39m \u001b[36mi64\u001b[39m \u001b[0m%\"x::AbstractFloat.tag\"\u001b[0m, \u001b[33m-16\u001b[39m\n",
      "  \u001b[0m%1 \u001b[0m= \u001b[96m\u001b[1minttoptr\u001b[22m\u001b[39m \u001b[36mi64\u001b[39m \u001b[0m%0 \u001b[95mto\u001b[39m \u001b[95mptr\u001b[39m\n",
      "  \u001b[0m%exactly_isa \u001b[0m= \u001b[96m\u001b[1micmp\u001b[22m\u001b[39m \u001b[96m\u001b[1meq\u001b[22m\u001b[39m \u001b[95mptr\u001b[39m \u001b[0m%1\u001b[0m, \u001b[93m@\"+Core.Float32#13389.jit\"\u001b[39m\n",
      "  \u001b[96m\u001b[1mbr\u001b[22m\u001b[39m \u001b[36mi1\u001b[39m \u001b[0m%exactly_isa\u001b[0m, \u001b[36mlabel\u001b[39m \u001b[91m%box_union\u001b[39m\u001b[0m, \u001b[36mlabel\u001b[39m \u001b[91m%isa3\u001b[39m\n",
      "\n",
      "\u001b[91mL37:\u001b[39m                                              \u001b[90m; preds = %isa3\u001b[39m\n",
      "\u001b[90m; ┌ @ intfuncs.jl:376 within `literal_pow`\u001b[39m\n",
      "   \u001b[96m\u001b[1mstore\u001b[22m\u001b[39m \u001b[95mptr\u001b[39m \u001b[0m%\"x::AbstractFloat\"\u001b[0m, \u001b[95mptr\u001b[39m \u001b[0m%jlcallframe1\u001b[0m, \u001b[95malign\u001b[39m \u001b[33m8\u001b[39m\n",
      "   \u001b[0m%2 \u001b[0m= \u001b[96m\u001b[1mgetelementptr\u001b[22m\u001b[39m \u001b[95minbounds\u001b[39m \u001b[95mptr\u001b[39m\u001b[0m, \u001b[95mptr\u001b[39m \u001b[0m%jlcallframe1\u001b[0m, \u001b[36mi64\u001b[39m \u001b[33m1\u001b[39m\n",
      "   \u001b[96m\u001b[1mstore\u001b[22m\u001b[39m \u001b[95mptr\u001b[39m \u001b[93m@\"jl_global#13406.jit\"\u001b[39m\u001b[0m, \u001b[95mptr\u001b[39m \u001b[0m%2\u001b[0m, \u001b[95malign\u001b[39m \u001b[33m8\u001b[39m\n",
      "   \u001b[0m%3 \u001b[0m= \u001b[96m\u001b[1mcall\u001b[22m\u001b[39m \u001b[95mnonnull\u001b[39m \u001b[95mptr\u001b[39m \u001b[93m@ijl_apply_generic\u001b[39m\u001b[33m(\u001b[39m\u001b[95mptr\u001b[39m \u001b[95mnonnull\u001b[39m \u001b[93m@\"jl_global#13405.jit\"\u001b[39m\u001b[0m, \u001b[95mptr\u001b[39m \u001b[95mnonnull\u001b[39m \u001b[0m%jlcallframe1\u001b[0m, \u001b[36mi32\u001b[39m \u001b[33m2\u001b[39m\u001b[33m)\u001b[39m\n",
      "\u001b[90m; └\u001b[39m\n",
      "  \u001b[96m\u001b[1mbr\u001b[22m\u001b[39m \u001b[36mlabel\u001b[39m \u001b[91m%L40\u001b[39m\n",
      "\n",
      "\u001b[91mL40:\u001b[39m                                              \u001b[90m; preds = %box_union105, %box_union, %L37\u001b[39m\n",
      "  \u001b[0m%value_phi \u001b[0m= \u001b[96m\u001b[1mphi\u001b[22m\u001b[39m \u001b[95mptr\u001b[39m \u001b[33m[\u001b[39m \u001b[0m%3\u001b[0m, \u001b[91m%L37\u001b[39m \u001b[33m]\u001b[39m\u001b[0m, \u001b[33m[\u001b[39m \u001b[0m%box_Float32\u001b[0m, \u001b[91m%box_union\u001b[39m \u001b[33m]\u001b[39m\u001b[0m, \u001b[33m[\u001b[39m \u001b[0m%unionbox\u001b[0m, \u001b[91m%box_union105\u001b[39m \u001b[33m]\u001b[39m\n",
      "  \u001b[0m%exactly_isa25.not \u001b[0m= \u001b[96m\u001b[1micmp\u001b[22m\u001b[39m \u001b[96m\u001b[1meq\u001b[22m\u001b[39m \u001b[95mptr\u001b[39m \u001b[0m%1\u001b[0m, \u001b[93m@\"+Main.Base.MPFR.BigFloat#13392.jit\"\u001b[39m\n",
      "  \u001b[0m%gc_slot_addr_1127 \u001b[0m= \u001b[96m\u001b[1mgetelementptr\u001b[22m\u001b[39m \u001b[95minbounds\u001b[39m \u001b[95mptr\u001b[39m\u001b[0m, \u001b[95mptr\u001b[39m \u001b[0m%gcframe2\u001b[0m, \u001b[36mi64\u001b[39m \u001b[33m3\u001b[39m\n",
      "  \u001b[96m\u001b[1mstore\u001b[22m\u001b[39m \u001b[95mptr\u001b[39m \u001b[0m%value_phi\u001b[0m, \u001b[95mptr\u001b[39m \u001b[0m%gc_slot_addr_1127\u001b[0m, \u001b[95malign\u001b[39m \u001b[33m8\u001b[39m\n",
      "  \u001b[96m\u001b[1mbr\u001b[22m\u001b[39m \u001b[36mi1\u001b[39m \u001b[0m%exactly_isa25.not\u001b[0m, \u001b[36mlabel\u001b[39m \u001b[91m%guard_exit27\u001b[39m\u001b[0m, \u001b[36mlabel\u001b[39m \u001b[91m%L46\u001b[39m\n",
      "\n",
      "\u001b[91mL46:\u001b[39m                                              \u001b[90m; preds = %L40\u001b[39m\n",
      "  \u001b[96m\u001b[1mstore\u001b[22m\u001b[39m \u001b[95mptr\u001b[39m \u001b[93m@\"jl_global#13401.jit\"\u001b[39m\u001b[0m, \u001b[95mptr\u001b[39m \u001b[0m%jlcallframe1\u001b[0m, \u001b[95malign\u001b[39m \u001b[33m8\u001b[39m\n",
      "  \u001b[0m%4 \u001b[0m= \u001b[96m\u001b[1mgetelementptr\u001b[22m\u001b[39m \u001b[95minbounds\u001b[39m \u001b[95mptr\u001b[39m\u001b[0m, \u001b[95mptr\u001b[39m \u001b[0m%jlcallframe1\u001b[0m, \u001b[36mi64\u001b[39m \u001b[33m1\u001b[39m\n",
      "  \u001b[96m\u001b[1mstore\u001b[22m\u001b[39m \u001b[95mptr\u001b[39m \u001b[0m%\"x::AbstractFloat\"\u001b[0m, \u001b[95mptr\u001b[39m \u001b[0m%4\u001b[0m, \u001b[95malign\u001b[39m \u001b[33m8\u001b[39m\n",
      "  \u001b[0m%5 \u001b[0m= \u001b[96m\u001b[1mcall\u001b[22m\u001b[39m \u001b[95mnonnull\u001b[39m \u001b[95mptr\u001b[39m \u001b[93m@ijl_apply_generic\u001b[39m\u001b[33m(\u001b[39m\u001b[95mptr\u001b[39m \u001b[95mnonnull\u001b[39m \u001b[93m@\"jl_global#13400.jit\"\u001b[39m\u001b[0m, \u001b[95mptr\u001b[39m \u001b[95mnonnull\u001b[39m \u001b[0m%jlcallframe1\u001b[0m, \u001b[36mi32\u001b[39m \u001b[33m2\u001b[39m\u001b[33m)\u001b[39m\n",
      "  \u001b[96m\u001b[1mbr\u001b[22m\u001b[39m \u001b[36mlabel\u001b[39m \u001b[91m%L48\u001b[39m\n",
      "\n",
      "\u001b[91mL48:\u001b[39m                                              \u001b[90m; preds = %guard_exit27, %L46\u001b[39m\n",
      "  \u001b[0m%value_phi33 \u001b[0m= \u001b[96m\u001b[1mphi\u001b[22m\u001b[39m \u001b[95mptr\u001b[39m \u001b[33m[\u001b[39m \u001b[0m%9\u001b[0m, \u001b[91m%guard_exit27\u001b[39m \u001b[33m]\u001b[39m\u001b[0m, \u001b[33m[\u001b[39m \u001b[0m%5\u001b[0m, \u001b[91m%L46\u001b[39m \u001b[33m]\u001b[39m\n",
      "  \u001b[0m%gc_slot_addr_0 \u001b[0m= \u001b[96m\u001b[1mgetelementptr\u001b[22m\u001b[39m \u001b[95minbounds\u001b[39m \u001b[95mptr\u001b[39m\u001b[0m, \u001b[95mptr\u001b[39m \u001b[0m%gcframe2\u001b[0m, \u001b[36mi64\u001b[39m \u001b[33m2\u001b[39m\n",
      "  \u001b[96m\u001b[1mstore\u001b[22m\u001b[39m \u001b[95mptr\u001b[39m \u001b[0m%value_phi33\u001b[0m, \u001b[95mptr\u001b[39m \u001b[0m%gc_slot_addr_0\u001b[0m, \u001b[95malign\u001b[39m \u001b[33m16\u001b[39m\n",
      "  \u001b[96m\u001b[1mstore\u001b[22m\u001b[39m \u001b[95mptr\u001b[39m \u001b[0m%value_phi\u001b[0m, \u001b[95mptr\u001b[39m \u001b[0m%jlcallframe1\u001b[0m, \u001b[95malign\u001b[39m \u001b[33m8\u001b[39m\n",
      "  \u001b[0m%6 \u001b[0m= \u001b[96m\u001b[1mgetelementptr\u001b[22m\u001b[39m \u001b[95minbounds\u001b[39m \u001b[95mptr\u001b[39m\u001b[0m, \u001b[95mptr\u001b[39m \u001b[0m%jlcallframe1\u001b[0m, \u001b[36mi64\u001b[39m \u001b[33m1\u001b[39m\n",
      "  \u001b[96m\u001b[1mstore\u001b[22m\u001b[39m \u001b[95mptr\u001b[39m \u001b[0m%value_phi33\u001b[0m, \u001b[95mptr\u001b[39m \u001b[0m%6\u001b[0m, \u001b[95malign\u001b[39m \u001b[33m8\u001b[39m\n",
      "  \u001b[0m%7 \u001b[0m= \u001b[96m\u001b[1mcall\u001b[22m\u001b[39m \u001b[95mnonnull\u001b[39m \u001b[95mptr\u001b[39m \u001b[93m@ijl_apply_generic\u001b[39m\u001b[33m(\u001b[39m\u001b[95mptr\u001b[39m \u001b[95mnonnull\u001b[39m \u001b[93m@\"jl_global#13396.jit\"\u001b[39m\u001b[0m, \u001b[95mptr\u001b[39m \u001b[95mnonnull\u001b[39m \u001b[0m%jlcallframe1\u001b[0m, \u001b[36mi32\u001b[39m \u001b[33m2\u001b[39m\u001b[33m)\u001b[39m\n",
      "  \u001b[96m\u001b[1mstore\u001b[22m\u001b[39m \u001b[95mptr\u001b[39m \u001b[0m%7\u001b[0m, \u001b[95mptr\u001b[39m \u001b[0m%gc_slot_addr_0\u001b[0m, \u001b[95malign\u001b[39m \u001b[33m16\u001b[39m\n",
      "  \u001b[96m\u001b[1mstore\u001b[22m\u001b[39m \u001b[95mptr\u001b[39m \u001b[0m%7\u001b[0m, \u001b[95mptr\u001b[39m \u001b[0m%jlcallframe1\u001b[0m, \u001b[95malign\u001b[39m \u001b[33m8\u001b[39m\n",
      "  \u001b[96m\u001b[1mstore\u001b[22m\u001b[39m \u001b[95mptr\u001b[39m \u001b[93m@\"jl_global#13399.jit\"\u001b[39m\u001b[0m, \u001b[95mptr\u001b[39m \u001b[0m%6\u001b[0m, \u001b[95malign\u001b[39m \u001b[33m8\u001b[39m\n",
      "  \u001b[0m%8 \u001b[0m= \u001b[96m\u001b[1mcall\u001b[22m\u001b[39m \u001b[95mnonnull\u001b[39m \u001b[95mptr\u001b[39m \u001b[93m@ijl_apply_generic\u001b[39m\u001b[33m(\u001b[39m\u001b[95mptr\u001b[39m \u001b[95mnonnull\u001b[39m \u001b[93m@\"jl_global#13398.jit\"\u001b[39m\u001b[0m, \u001b[95mptr\u001b[39m \u001b[95mnonnull\u001b[39m \u001b[0m%jlcallframe1\u001b[0m, \u001b[36mi32\u001b[39m \u001b[33m2\u001b[39m\u001b[33m)\u001b[39m\n",
      "  \u001b[0m%frame.prev135 \u001b[0m= \u001b[96m\u001b[1mload\u001b[22m\u001b[39m \u001b[95mptr\u001b[39m\u001b[0m, \u001b[95mptr\u001b[39m \u001b[0m%frame.prev\u001b[0m, \u001b[95malign\u001b[39m \u001b[33m8\u001b[39m\n",
      "  \u001b[96m\u001b[1mstore\u001b[22m\u001b[39m \u001b[95mptr\u001b[39m \u001b[0m%frame.prev135\u001b[0m, \u001b[95mptr\u001b[39m \u001b[0m%tls_pgcstack\u001b[0m, \u001b[95malign\u001b[39m \u001b[33m8\u001b[39m\n",
      "  \u001b[96m\u001b[1mret\u001b[22m\u001b[39m \u001b[95mptr\u001b[39m \u001b[0m%8\n",
      "\n",
      "\u001b[91misa3:\u001b[39m                                             \u001b[90m; preds = %top\u001b[39m\n",
      "  \u001b[0m%exactly_isa2 \u001b[0m= \u001b[96m\u001b[1micmp\u001b[22m\u001b[39m \u001b[96m\u001b[1meq\u001b[22m\u001b[39m \u001b[95mptr\u001b[39m \u001b[0m%1\u001b[0m, \u001b[93m@\"+Core.Float64#13390.jit\"\u001b[39m\n",
      "  \u001b[96m\u001b[1mbr\u001b[22m\u001b[39m \u001b[36mi1\u001b[39m \u001b[0m%exactly_isa2\u001b[0m, \u001b[36mlabel\u001b[39m \u001b[91m%box_union105\u001b[39m\u001b[0m, \u001b[36mlabel\u001b[39m \u001b[91m%L37\u001b[39m\n",
      "\n",
      "\u001b[91mguard_exit27:\u001b[39m                                     \u001b[90m; preds = %L40\u001b[39m\n",
      "\u001b[90m; ┌ @ mpfr.jl:511 within `*`\u001b[39m\n",
      "   \u001b[0m%9 \u001b[0m= \u001b[96m\u001b[1mcall\u001b[22m\u001b[39m \u001b[95mnonnull\u001b[39m \u001b[95mptr\u001b[39m \u001b[93m@\"j_\u001b[39m\u001b[0m*\u001b[0m_13394\"\u001b[33m(\u001b[39m\u001b[95mptr\u001b[39m \u001b[95mnonnull\u001b[39m \u001b[0m%\"x::AbstractFloat\"\u001b[0m, \u001b[36mi64\u001b[39m \u001b[95msignext\u001b[39m \u001b[33m3\u001b[39m\u001b[33m)\u001b[39m\n",
      "\u001b[90m; └\u001b[39m\n",
      "  \u001b[96m\u001b[1mbr\u001b[22m\u001b[39m \u001b[36mlabel\u001b[39m \u001b[91m%L48\u001b[39m\n",
      "\n",
      "\u001b[91mbox_union:\u001b[39m                                        \u001b[90m; preds = %top\u001b[39m\n",
      "\u001b[90m; ┌ @ intfuncs.jl:370 within `literal_pow`\u001b[39m\n",
      "\u001b[90m; │┌ @ float.jl:493 within `*`\u001b[39m\n",
      "    \u001b[0m%.unbox \u001b[0m= \u001b[96m\u001b[1mload\u001b[22m\u001b[39m \u001b[36mfloat\u001b[39m\u001b[0m, \u001b[95mptr\u001b[39m \u001b[0m%\"x::AbstractFloat\"\u001b[0m, \u001b[95malign\u001b[39m \u001b[33m4\u001b[39m\n",
      "    \u001b[0m%10 \u001b[0m= \u001b[96m\u001b[1mfmul\u001b[22m\u001b[39m \u001b[36mfloat\u001b[39m \u001b[0m%.unbox\u001b[0m, \u001b[0m%.unbox\n",
      "\u001b[90m; └└\u001b[39m\n",
      "\u001b[90m;  @ /home/csimal/Documents/Talks/CeCI/CECI-Julia-for-HPC/code/jl_notebook_cell_df34fa98e69747e1a8f8a730347b8e2f_W2sZmlsZQ==.jl:1 within `foo`\u001b[39m\n",
      "  \u001b[96m\u001b[1mcall\u001b[22m\u001b[39m \u001b[36mvoid\u001b[39m \u001b[93m@llvm.lifetime.start.p0\u001b[39m\u001b[33m(\u001b[39m\u001b[36mi64\u001b[39m \u001b[33m8\u001b[39m\u001b[0m, \u001b[95mptr\u001b[39m \u001b[95mnonnull\u001b[39m \u001b[0m%unionalloca.sroa.0\u001b[33m)\u001b[39m\n",
      "  \u001b[96m\u001b[1mstore\u001b[22m\u001b[39m \u001b[36mfloat\u001b[39m \u001b[0m%10\u001b[0m, \u001b[95mptr\u001b[39m \u001b[0m%unionalloca.sroa.0\u001b[0m, \u001b[95malign\u001b[39m \u001b[33m8\u001b[39m\n",
      "\u001b[90m;  @ /home/csimal/Documents/Talks/CeCI/CECI-Julia-for-HPC/code/jl_notebook_cell_df34fa98e69747e1a8f8a730347b8e2f_W2sZmlsZQ==.jl:2 within `foo`\u001b[39m\n",
      "\u001b[90m; ┌ @ intfuncs.jl:370 within `literal_pow`\u001b[39m\n",
      "   \u001b[0m%unionalloca.sroa.0.0.unionalloca.sroa.0.0.unionalloca.sroa.0.0.unionalloca.sroa.0.0.copyload124 \u001b[0m= \u001b[96m\u001b[1mload\u001b[22m\u001b[39m \u001b[36mi64\u001b[39m\u001b[0m, \u001b[95mptr\u001b[39m \u001b[0m%unionalloca.sroa.0\u001b[0m, \u001b[95malign\u001b[39m \u001b[33m8\u001b[39m\n",
      "   \u001b[0m%.sroa.0.sroa.0.0.extract.trunc \u001b[0m= \u001b[96m\u001b[1mtrunc\u001b[22m\u001b[39m \u001b[36mi64\u001b[39m \u001b[0m%unionalloca.sroa.0.0.unionalloca.sroa.0.0.unionalloca.sroa.0.0.unionalloca.sroa.0.0.copyload124 \u001b[95mto\u001b[39m \u001b[36mi32\u001b[39m\n",
      "   \u001b[96m\u001b[1mcall\u001b[22m\u001b[39m \u001b[36mvoid\u001b[39m \u001b[93m@llvm.lifetime.end.p0\u001b[39m\u001b[33m(\u001b[39m\u001b[36mi64\u001b[39m \u001b[33m8\u001b[39m\u001b[0m, \u001b[95mptr\u001b[39m \u001b[95mnonnull\u001b[39m \u001b[0m%unionalloca.sroa.0\u001b[33m)\u001b[39m\n",
      "   \u001b[0m%11 \u001b[0m= \u001b[96m\u001b[1mbitcast\u001b[22m\u001b[39m \u001b[36mi32\u001b[39m \u001b[0m%.sroa.0.sroa.0.0.extract.trunc \u001b[95mto\u001b[39m \u001b[36mfloat\u001b[39m\n",
      "\u001b[90m; └\u001b[39m\n",
      "\u001b[90m;  @ /home/csimal/Documents/Talks/CeCI/CECI-Julia-for-HPC/code/jl_notebook_cell_df34fa98e69747e1a8f8a730347b8e2f_W2sZmlsZQ==.jl:1 within `foo`\u001b[39m\n",
      "  \u001b[0m%box_Float32 \u001b[0m= \u001b[96m\u001b[1mcall\u001b[22m\u001b[39m \u001b[95mptr\u001b[39m \u001b[93m@ijl_box_float32\u001b[39m\u001b[33m(\u001b[39m\u001b[36mfloat\u001b[39m \u001b[0m%11\u001b[33m)\u001b[39m\n",
      "  \u001b[96m\u001b[1mbr\u001b[22m\u001b[39m \u001b[36mlabel\u001b[39m \u001b[91m%L40\u001b[39m\n",
      "\n",
      "\u001b[91mbox_union105:\u001b[39m                                     \u001b[90m; preds = %isa3\u001b[39m\n",
      "\u001b[90m;  @ /home/csimal/Documents/Talks/CeCI/CECI-Julia-for-HPC/code/jl_notebook_cell_df34fa98e69747e1a8f8a730347b8e2f_W2sZmlsZQ==.jl:2 within `foo`\u001b[39m\n",
      "\u001b[90m; ┌ @ intfuncs.jl:370 within `literal_pow`\u001b[39m\n",
      "\u001b[90m; │┌ @ float.jl:493 within `*`\u001b[39m\n",
      "    \u001b[0m%.unbox102 \u001b[0m= \u001b[96m\u001b[1mload\u001b[22m\u001b[39m \u001b[36mdouble\u001b[39m\u001b[0m, \u001b[95mptr\u001b[39m \u001b[0m%\"x::AbstractFloat\"\u001b[0m, \u001b[95malign\u001b[39m \u001b[33m8\u001b[39m\n",
      "    \u001b[0m%12 \u001b[0m= \u001b[96m\u001b[1mfmul\u001b[22m\u001b[39m \u001b[36mdouble\u001b[39m \u001b[0m%.unbox102\u001b[0m, \u001b[0m%.unbox102\n",
      "\u001b[90m; └└\u001b[39m\n",
      "\u001b[90m;  @ /home/csimal/Documents/Talks/CeCI/CECI-Julia-for-HPC/code/jl_notebook_cell_df34fa98e69747e1a8f8a730347b8e2f_W2sZmlsZQ==.jl:1 within `foo`\u001b[39m\n",
      "  \u001b[96m\u001b[1mcall\u001b[22m\u001b[39m \u001b[36mvoid\u001b[39m \u001b[93m@llvm.lifetime.start.p0\u001b[39m\u001b[33m(\u001b[39m\u001b[36mi64\u001b[39m \u001b[33m8\u001b[39m\u001b[0m, \u001b[95mptr\u001b[39m \u001b[95mnonnull\u001b[39m \u001b[0m%unionalloca.sroa.0\u001b[33m)\u001b[39m\n",
      "\u001b[90m;  @ /home/csimal/Documents/Talks/CeCI/CECI-Julia-for-HPC/code/jl_notebook_cell_df34fa98e69747e1a8f8a730347b8e2f_W2sZmlsZQ==.jl:2 within `foo`\u001b[39m\n",
      "\u001b[90m; ┌ @ intfuncs.jl:370 within `literal_pow`\u001b[39m\n",
      "   \u001b[0m%13 \u001b[0m= \u001b[96m\u001b[1mbitcast\u001b[22m\u001b[39m \u001b[36mdouble\u001b[39m \u001b[0m%12 \u001b[95mto\u001b[39m \u001b[36mi64\u001b[39m\n",
      "   \u001b[0m%.sroa.0.sroa.0.0.extract.trunc120 \u001b[0m= \u001b[96m\u001b[1mtrunc\u001b[22m\u001b[39m \u001b[36mi64\u001b[39m \u001b[0m%13 \u001b[95mto\u001b[39m \u001b[36mi32\u001b[39m\n",
      "   \u001b[0m%.sroa.0.sroa.4.0.extract.shift121 \u001b[0m= \u001b[96m\u001b[1mlshr\u001b[22m\u001b[39m \u001b[36mi64\u001b[39m \u001b[0m%13\u001b[0m, \u001b[33m32\u001b[39m\n",
      "   \u001b[0m%.sroa.0.sroa.4.0.extract.trunc122 \u001b[0m= \u001b[96m\u001b[1mtrunc\u001b[22m\u001b[39m \u001b[36mi64\u001b[39m \u001b[0m%.sroa.0.sroa.4.0.extract.shift121 \u001b[95mto\u001b[39m \u001b[36mi32\u001b[39m\n",
      "   \u001b[96m\u001b[1mcall\u001b[22m\u001b[39m \u001b[36mvoid\u001b[39m \u001b[93m@llvm.lifetime.end.p0\u001b[39m\u001b[33m(\u001b[39m\u001b[36mi64\u001b[39m \u001b[33m8\u001b[39m\u001b[0m, \u001b[95mptr\u001b[39m \u001b[95mnonnull\u001b[39m \u001b[0m%unionalloca.sroa.0\u001b[33m)\u001b[39m\n",
      "\u001b[90m; └\u001b[39m\n",
      "\u001b[90m;  @ /home/csimal/Documents/Talks/CeCI/CECI-Julia-for-HPC/code/jl_notebook_cell_df34fa98e69747e1a8f8a730347b8e2f_W2sZmlsZQ==.jl:1 within `foo`\u001b[39m\n",
      "  \u001b[0m%ptls_field \u001b[0m= \u001b[96m\u001b[1mgetelementptr\u001b[22m\u001b[39m \u001b[95minbounds\u001b[39m \u001b[95mptr\u001b[39m\u001b[0m, \u001b[95mptr\u001b[39m \u001b[0m%tls_pgcstack\u001b[0m, \u001b[36mi64\u001b[39m \u001b[33m2\u001b[39m\n",
      "  \u001b[0m%ptls_load \u001b[0m= \u001b[96m\u001b[1mload\u001b[22m\u001b[39m \u001b[95mptr\u001b[39m\u001b[0m, \u001b[95mptr\u001b[39m \u001b[0m%ptls_field\u001b[0m, \u001b[95malign\u001b[39m \u001b[33m8\u001b[39m\n",
      "  \u001b[0m%unionbox \u001b[0m= \u001b[96m\u001b[1mcall\u001b[22m\u001b[39m \u001b[95mnoalias\u001b[39m \u001b[95mnonnull\u001b[39m \u001b[95malign\u001b[39m \u001b[33m8\u001b[39m \u001b[95mdereferenceable\u001b[39m\u001b[33m(\u001b[39m\u001b[33m16\u001b[39m\u001b[33m)\u001b[39m \u001b[95mptr\u001b[39m \u001b[93m@ijl_gc_pool_alloc_instrumented\u001b[39m\u001b[33m(\u001b[39m\u001b[95mptr\u001b[39m \u001b[0m%ptls_load\u001b[0m, \u001b[36mi32\u001b[39m \u001b[33m752\u001b[39m\u001b[0m, \u001b[36mi32\u001b[39m \u001b[33m16\u001b[39m\u001b[0m, \u001b[36mi64\u001b[39m \u001b[33m139686931628048\u001b[39m\u001b[33m)\u001b[39m \u001b[0m#10\n",
      "  \u001b[0m%unionbox.tag_addr \u001b[0m= \u001b[96m\u001b[1mgetelementptr\u001b[22m\u001b[39m \u001b[95minbounds\u001b[39m \u001b[36mi64\u001b[39m\u001b[0m, \u001b[95mptr\u001b[39m \u001b[0m%unionbox\u001b[0m, \u001b[36mi64\u001b[39m \u001b[33m-1\u001b[39m\n",
      "  \u001b[96m\u001b[1mstore\u001b[22m\u001b[39m \u001b[95matomic\u001b[39m \u001b[36mi64\u001b[39m \u001b[33m139686931628048\u001b[39m\u001b[0m, \u001b[95mptr\u001b[39m \u001b[0m%unionbox.tag_addr \u001b[95munordered\u001b[39m\u001b[0m, \u001b[95malign\u001b[39m \u001b[33m8\u001b[39m\n",
      "  \u001b[96m\u001b[1mstore\u001b[22m\u001b[39m \u001b[36mi32\u001b[39m \u001b[0m%.sroa.0.sroa.0.0.extract.trunc120\u001b[0m, \u001b[95mptr\u001b[39m \u001b[0m%unionbox\u001b[0m, \u001b[95malign\u001b[39m \u001b[33m8\u001b[39m\n",
      "  \u001b[0m%unionbox.sroa_idx \u001b[0m= \u001b[96m\u001b[1mgetelementptr\u001b[22m\u001b[39m \u001b[95minbounds\u001b[39m \u001b[36mi8\u001b[39m\u001b[0m, \u001b[95mptr\u001b[39m \u001b[0m%unionbox\u001b[0m, \u001b[36mi64\u001b[39m \u001b[33m4\u001b[39m\n",
      "  \u001b[96m\u001b[1mstore\u001b[22m\u001b[39m \u001b[36mi32\u001b[39m \u001b[0m%.sroa.0.sroa.4.0.extract.trunc122\u001b[0m, \u001b[95mptr\u001b[39m \u001b[0m%unionbox.sroa_idx\u001b[0m, \u001b[95malign\u001b[39m \u001b[33m4\u001b[39m\n",
      "  \u001b[96m\u001b[1mbr\u001b[22m\u001b[39m \u001b[36mlabel\u001b[39m \u001b[91m%L40\u001b[39m\n",
      "\u001b[33m}\u001b[39m\n"
     ]
    }
   ],
   "source": [
    "code_llvm(foo, Tuple{AbstractFloat})"
   ]
  },
  {
   "cell_type": "markdown",
   "metadata": {},
   "source": [
    "Notice how the second one is so much longer? That's because of all the checks the compiler has to do because it's unsure about the type. This, by the way is how Python operates by default."
   ]
  }
 ],
 "metadata": {
  "kernelspec": {
   "display_name": "Julia 1.11.1",
   "language": "julia",
   "name": "julia-1.11"
  },
  "language_info": {
   "file_extension": ".jl",
   "mimetype": "application/julia",
   "name": "julia",
   "version": "1.11.1"
  }
 },
 "nbformat": 4,
 "nbformat_minor": 2
}
